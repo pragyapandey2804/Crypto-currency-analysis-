{
 "cells": [
  {
   "cell_type": "code",
   "execution_count": 3,
   "id": "e4411db7-6022-48f9-a38e-a3fa6454d2c8",
   "metadata": {},
   "outputs": [
    {
     "name": "stdout",
     "output_type": "stream",
     "text": [
      "Defaulting to user installation because normal site-packages is not writeable\n",
      "Collecting pycoingecko\n",
      "  Downloading pycoingecko-3.2.0-py3-none-any.whl.metadata (16 kB)\n",
      "Requirement already satisfied: requests in c:\\programdata\\anaconda3\\lib\\site-packages (from pycoingecko) (2.32.2)\n",
      "Requirement already satisfied: charset-normalizer<4,>=2 in c:\\programdata\\anaconda3\\lib\\site-packages (from requests->pycoingecko) (2.0.4)\n",
      "Requirement already satisfied: idna<4,>=2.5 in c:\\programdata\\anaconda3\\lib\\site-packages (from requests->pycoingecko) (3.7)\n",
      "Requirement already satisfied: urllib3<3,>=1.21.1 in c:\\programdata\\anaconda3\\lib\\site-packages (from requests->pycoingecko) (2.2.2)\n",
      "Requirement already satisfied: certifi>=2017.4.17 in c:\\programdata\\anaconda3\\lib\\site-packages (from requests->pycoingecko) (2024.7.4)\n",
      "Downloading pycoingecko-3.2.0-py3-none-any.whl (10 kB)\n",
      "Installing collected packages: pycoingecko\n",
      "Successfully installed pycoingecko-3.2.0\n"
     ]
    },
    {
     "name": "stderr",
     "output_type": "stream",
     "text": [
      "DEPRECATION: Loading egg at c:\\programdata\\anaconda3\\lib\\site-packages\\vboxapi-1.0-py3.12.egg is deprecated. pip 24.3 will enforce this behaviour change. A possible replacement is to use pip for package installation.. Discussion can be found at https://github.com/pypa/pip/issues/12330\n"
     ]
    }
   ],
   "source": [
    "!pip install pycoingecko\n"
   ]
  },
  {
   "cell_type": "code",
   "execution_count": null,
   "id": "78fb1e95-838d-4ba4-9562-7bfb3b6ff6df",
   "metadata": {},
   "outputs": [
    {
     "name": "stdout",
     "output_type": "stream",
     "text": [
      "Data successfully written to crypto_analysis.csv\n",
      "\n",
      "Top 5 Cryptocurrencies by Market Cap:\n",
      "   Cryptocurrency Name Symbol  Current Price (USD)     Market Cap  \\\n",
      "0             Bitcoin    btc         93727.000000  1855845941732   \n",
      "1            Ethereum    eth          3385.490000   407790779411   \n",
      "2              Tether   usdt             0.998481   139466854541   \n",
      "3                 XRP    xrp             2.230000   127682374284   \n",
      "4                 BNB    bnb           687.270000   100259001347   \n",
      "\n",
      "   24h Trading Volume  24h Price Change (%)  \n",
      "0         49726620084              -1.35489  \n",
      "1         31194867734               3.21146  \n",
      "2         68156464087              -0.16454  \n",
      "3          7169754719               2.59194  \n",
      "4          1747089689               4.10809  \n",
      "\n",
      "Average Price of Top 50 Cryptocurrencies: $ 4157.7\n",
      "\n",
      "Highest 24h Percentage Price Change:\n",
      "    Cryptocurrency Name  24h Price Change (%)\n",
      "32                Aave              17.39203\n",
      "\n",
      "Lowest 24h Percentage Price Change:\n",
      "    Cryptocurrency Name  24h Price Change (%)\n",
      "17     Wrapped Bitcoin              -1.37398\n"
     ]
    }
   ],
   "source": [
    "import pandas as pd\n",
    "import time\n",
    "from pycoingecko import CoinGeckoAPI\n",
    "\n",
    "# Instantiate the CoinGecko API client\n",
    "cg = CoinGeckoAPI()\n",
    "\n",
    "def fetch_crypto_data():\n",
    "    \"\"\"\n",
    "    Fetches the top 50 cryptocurrencies by market cap using CoinGecko API.\n",
    "    \"\"\"\n",
    "    try:\n",
    "        data = cg.get_coins_markets(vs_currency='usd', order='market_cap_desc', per_page=50, page=1)\n",
    "        return data\n",
    "    except Exception as e:\n",
    "        print(f\"Failed to fetch data: {e}\")\n",
    "        return []\n",
    "\n",
    "def create_dataframe(data):\n",
    "    \"\"\"\n",
    "    Converts the fetched cryptocurrency data into a pandas DataFrame.\n",
    "    \"\"\"\n",
    "    df = pd.DataFrame(data)\n",
    "    df = df[['name', 'symbol', 'current_price', 'market_cap', 'total_volume', 'price_change_percentage_24h']]\n",
    "    df.columns = ['Cryptocurrency Name', 'Symbol', 'Current Price (USD)', 'Market Cap', '24h Trading Volume', '24h Price Change (%)']\n",
    "    return df\n",
    "\n",
    "def update_csv(dataframe, file_path):\n",
    "    \"\"\"\n",
    "    Updates the CSV file with the latest cryptocurrency data.\n",
    "    If the file does not exist, it creates a new one.\n",
    "    \"\"\"\n",
    "    try:\n",
    "        # Write the DataFrame to a CSV file\n",
    "        dataframe.to_csv(file_path, index=False)\n",
    "        print(f\"Data successfully written to {file_path}\")\n",
    "    except Exception as e:\n",
    "        print(f\"Error updating CSV: {e}\")\n",
    "\n",
    "def perform_analysis(df):\n",
    "    \"\"\"\n",
    "    Performs basic analysis on the fetched cryptocurrency data.\n",
    "    \"\"\"\n",
    "    top_5_by_market_cap = df.nlargest(5, 'Market Cap')\n",
    "    avg_price = df['Current Price (USD)'].mean()\n",
    "    highest_24h_change = df.nlargest(1, '24h Price Change (%)')\n",
    "    lowest_24h_change = df.nsmallest(1, '24h Price Change (%)')\n",
    "\n",
    "    return top_5_by_market_cap, avg_price, highest_24h_change, lowest_24h_change\n",
    "\n",
    "def main_loop(file_path):\n",
    "    \"\"\"\n",
    "    Main loop that fetches live data, updates CSV, and performs analysis every 5 minutes.\n",
    "    \"\"\"\n",
    "    while True:\n",
    "        # Fetch live cryptocurrency data\n",
    "        data = fetch_crypto_data()\n",
    "        if data:\n",
    "            # Create a DataFrame from the fetched data\n",
    "            crypto_df = create_dataframe(data)\n",
    "\n",
    "            # Update CSV with the live data\n",
    "            update_csv(crypto_df, file_path)\n",
    "\n",
    "            # Perform analysis on the live data\n",
    "            top_5, avg_price, highest_change, lowest_change = perform_analysis(crypto_df)\n",
    "\n",
    "            # Print the analysis results\n",
    "            print(\"\\nTop 5 Cryptocurrencies by Market Cap:\\n\", top_5)\n",
    "            print(\"\\nAverage Price of Top 50 Cryptocurrencies: $\", round(avg_price, 2))\n",
    "            print(\"\\nHighest 24h Percentage Price Change:\\n\", highest_change[['Cryptocurrency Name', '24h Price Change (%)']])\n",
    "            print(\"\\nLowest 24h Percentage Price Change:\\n\", lowest_change[['Cryptocurrency Name', '24h Price Change (%)']])\n",
    "        else:\n",
    "            print(\"No data to update.\")\n",
    "\n",
    "        # Wait for 5 minutes before the next update\n",
    "        time.sleep(300)\n",
    "\n",
    "if __name__ == \"__main__\":\n",
    "    # Define the path to the CSV file\n",
    "    file_path = \"crypto_analysis.csv\"\n",
    "    main_loop(file_path)"
   ]
  },
  {
   "cell_type": "code",
   "execution_count": null,
   "id": "2dd762b6-3d49-4f58-83fa-ca6e46512dcf",
   "metadata": {},
   "outputs": [],
   "source": []
  }
 ],
 "metadata": {
  "kernelspec": {
   "display_name": "Python 3 (ipykernel)",
   "language": "python",
   "name": "python3"
  },
  "language_info": {
   "codemirror_mode": {
    "name": "ipython",
    "version": 3
   },
   "file_extension": ".py",
   "mimetype": "text/x-python",
   "name": "python",
   "nbconvert_exporter": "python",
   "pygments_lexer": "ipython3",
   "version": "3.12.4"
  }
 },
 "nbformat": 4,
 "nbformat_minor": 5
}
